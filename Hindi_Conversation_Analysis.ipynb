{
  "nbformat": 4,
  "nbformat_minor": 0,
  "metadata": {
    "colab": {
      "provenance": []
    },
    "kernelspec": {
      "name": "python3",
      "display_name": "Python 3"
    },
    "language_info": {
      "name": "python"
    }
  },
  "cells": [
    {
      "cell_type": "markdown",
      "source": [
        "# Step 1: Read the conversation"
      ],
      "metadata": {
        "id": "_A7VFjKUoM-w"
      }
    },
    {
      "cell_type": "code",
      "execution_count": 13,
      "metadata": {
        "colab": {
          "base_uri": "https://localhost:8080/"
        },
        "id": "bRMxLCoFlGLJ",
        "outputId": "61440fa3-e9a0-4e1e-a5fc-dabf1a93a6ea"
      },
      "outputs": [
        {
          "output_type": "stream",
          "name": "stdout",
          "text": [
            "\n",
            "RA: नमस्ते श्री कुमार मैं एक्स वाई जेड फाइनेंस से बोल रहा हूं। आपके लोन के बारे में बात करनी थी।\n",
            "B: हां बोलिए। क्या बात है?\n",
            "RA: सर आपका पिछले महीने का EMI अभी तक नहीं आया है। क्या कोई समस्या है?\n",
            "B: हां थोड़ी दिक्कत है। मेरी नौकरी चली गई है और मैं नया काम ढूंढ रहा हूं।\n",
            "RA: ओह यह तो बुरा हुआ। लेकिन सर आपको समझना होगा कि लोन का भुगतान समय पर करना बहुत जरूरी है।\n",
            "B: मैं समझता हूं लेकिन अभी मेरे पास पैसे नहीं हैं। क्या कुछ समय मिल सकता है?\n",
            "RA: हम समझते हैं आपकी स्थिति। क्या आप अगले हफ्ते तक कुछ भुगतान कर सकते हैं?\n",
            "B: मैं कोशिश करूंगा लेकिन पूरा EMI नहीं दे पाऊंगा। क्या आधा भुगतान चलेगा?\n",
            "RA: ठीक है आधा भुगतान अगले हफ्ते तक कर दीजिए। बाकी का क्या प्लान है आपका?\n",
            "B: मुझे उम्मीद है कि अगले महीने तक मुझे नया काम मिल जाएगा। तब मैं बाकी बकाया चुका दूंगा।\n",
            "RA: ठीक है। तो हम ऐसा करते हैं - आप अगले हफ्ते तक आधा EMI जमा कर दीजिए और अगले महीने के 15 तारीख तक बाकी का भुगतान कर दीजिए। क्या यह आपको स्वीकार है?\n",
            "B: हां यह ठीक रहेगा। मैं इस प्लान का पालन करने की पूरी कोशिश करूंगा।\n",
            "RA: बहुत अच्छा। मैं आपको एक SMS भेज रहा हूं जिसमें भुगतान की डिटेल्स होंगी। कृपया इसका पालन करें और समय पर भुगतान करें।\n",
            "B: ठीक है धन्यवाद आपके समझने के लिए।\n",
            "RA: आपका स्वागत है। अगर कोई और सवाल हो तो मुझे बताइएगा। अलविदा।\n",
            "B: अलविदा।\n",
            "\n"
          ]
        }
      ],
      "source": [
        "conversation = \"\"\"\n",
        "RA: नमस्ते श्री कुमार मैं एक्स वाई जेड फाइनेंस से बोल रहा हूं। आपके लोन के बारे में बात करनी थी।\n",
        "B: हां बोलिए। क्या बात है?\n",
        "RA: सर आपका पिछले महीने का EMI अभी तक नहीं आया है। क्या कोई समस्या है?\n",
        "B: हां थोड़ी दिक्कत है। मेरी नौकरी चली गई है और मैं नया काम ढूंढ रहा हूं।\n",
        "RA: ओह यह तो बुरा हुआ। लेकिन सर आपको समझना होगा कि लोन का भुगतान समय पर करना बहुत जरूरी है।\n",
        "B: मैं समझता हूं लेकिन अभी मेरे पास पैसे नहीं हैं। क्या कुछ समय मिल सकता है?\n",
        "RA: हम समझते हैं आपकी स्थिति। क्या आप अगले हफ्ते तक कुछ भुगतान कर सकते हैं?\n",
        "B: मैं कोशिश करूंगा लेकिन पूरा EMI नहीं दे पाऊंगा। क्या आधा भुगतान चलेगा?\n",
        "RA: ठीक है आधा भुगतान अगले हफ्ते तक कर दीजिए। बाकी का क्या प्लान है आपका?\n",
        "B: मुझे उम्मीद है कि अगले महीने तक मुझे नया काम मिल जाएगा। तब मैं बाकी बकाया चुका दूंगा।\n",
        "RA: ठीक है। तो हम ऐसा करते हैं - आप अगले हफ्ते तक आधा EMI जमा कर दीजिए और अगले महीने के 15 तारीख तक बाकी का भुगतान कर दीजिए। क्या यह आपको स्वीकार है?\n",
        "B: हां यह ठीक रहेगा। मैं इस प्लान का पालन करने की पूरी कोशिश करूंगा।\n",
        "RA: बहुत अच्छा। मैं आपको एक SMS भेज रहा हूं जिसमें भुगतान की डिटेल्स होंगी। कृपया इसका पालन करें और समय पर भुगतान करें।\n",
        "B: ठीक है धन्यवाद आपके समझने के लिए।\n",
        "RA: आपका स्वागत है। अगर कोई और सवाल हो तो मुझे बताइएगा। अलविदा।\n",
        "B: अलविदा।\n",
        "\"\"\"\n",
        "print(conversation)\n",
        "\n"
      ]
    },
    {
      "cell_type": "markdown",
      "source": [
        "# Step 2: Manually create a summary"
      ],
      "metadata": {
        "id": "U6h44BdboOhr"
      }
    },
    {
      "cell_type": "code",
      "source": [
        "summary = \"\"\"\n",
        "The conversation is about a missed EMI payment. The borrower lost his job and requested more time. They agree on a partial payment next week and full settlement by the 15th of the next month.\n",
        "\"\"\"\n",
        "print(summary)"
      ],
      "metadata": {
        "colab": {
          "base_uri": "https://localhost:8080/"
        },
        "id": "Z6OuCtR5oaAe",
        "outputId": "f7781f82-d6b6-44e3-e576-b6b52ec9b799"
      },
      "execution_count": 14,
      "outputs": [
        {
          "output_type": "stream",
          "name": "stdout",
          "text": [
            "\n",
            "The conversation is about a missed EMI payment. The borrower lost his job and requested more time. They agree on a partial payment next week and full settlement by the 15th of the next month.\n",
            "\n"
          ]
        }
      ]
    },
    {
      "cell_type": "markdown",
      "source": [
        "# Step 3: Identify key actions manually"
      ],
      "metadata": {
        "id": "kfLue_LaohYV"
      }
    },
    {
      "cell_type": "code",
      "source": [
        "key_actions = \"\"\"\n",
        "- The borrower will make a half EMI payment next week.\n",
        "- The borrower aims to find a new job by next month.\n",
        "- The borrower will pay the remaining amount by the 15th of the next month.\n",
        "- The recovery agent will send payment details via SMS.\n",
        "\"\"\"\n",
        "\n",
        "print(key_actions)\n"
      ],
      "metadata": {
        "colab": {
          "base_uri": "https://localhost:8080/"
        },
        "id": "6BqcASbXlL9Y",
        "outputId": "f107bf2b-738a-40b0-e282-41b5150d1fe1"
      },
      "execution_count": 15,
      "outputs": [
        {
          "output_type": "stream",
          "name": "stdout",
          "text": [
            "\n",
            "- The borrower will make a half EMI payment next week.\n",
            "- The borrower aims to find a new job by next month.\n",
            "- The borrower will pay the remaining amount by the 15th of the next month.\n",
            "- The recovery agent will send payment details via SMS.\n",
            "\n"
          ]
        }
      ]
    },
    {
      "cell_type": "markdown",
      "source": [
        "# Step 4: Analyze sentiment manually"
      ],
      "metadata": {
        "id": "99Aawcm4oveO"
      }
    },
    {
      "cell_type": "code",
      "source": [
        "sentiment_analysis = \"\"\"\n",
        "Recovery Agent (RA):\n",
        "- Starts with a formal and polite tone, indicating concern over missed payment.\n",
        "- Shows understanding and empathy when the borrower explains his situation.\n",
        "- Maintains a professional tone while negotiating a solution.\n",
        "- Tone remains supportive, encouraging timely payments and providing clear instructions.\n",
        "\n",
        "Borrower (B):\n",
        "- Begins with a neutral tone.\n",
        "- Exhibits stress and concern when explaining job loss.\n",
        "- Shows relief and appreciation when RA suggests a feasible payment plan.\n",
        "- Ends on a positive note, expressing gratitude for the understanding shown by RA.\n",
        "\"\"\"\n",
        "\n",
        "print(sentiment_analysis)\n"
      ],
      "metadata": {
        "colab": {
          "base_uri": "https://localhost:8080/"
        },
        "id": "6hOV45SelSsi",
        "outputId": "9fe9bbc1-3ce5-434a-e4d0-398999947b62"
      },
      "execution_count": 10,
      "outputs": [
        {
          "output_type": "stream",
          "name": "stdout",
          "text": [
            "\n",
            "Recovery Agent (RA):\n",
            "- Starts with a formal and polite tone, indicating concern over missed payment.\n",
            "- Shows understanding and empathy when the borrower explains his situation.\n",
            "- Maintains a professional tone while negotiating a solution.\n",
            "- Tone remains supportive, encouraging timely payments and providing clear instructions.\n",
            "\n",
            "Borrower (B):\n",
            "- Begins with a neutral tone.\n",
            "- Exhibits stress and concern when explaining job loss.\n",
            "- Shows relief and appreciation when RA suggests a feasible payment plan.\n",
            "- Ends on a positive note, expressing gratitude for the understanding shown by RA.\n",
            "\n"
          ]
        }
      ]
    },
    {
      "cell_type": "markdown",
      "source": [
        "# Step 5: Create a PDF report"
      ],
      "metadata": {
        "id": "yp3U4hAGo0Je"
      }
    },
    {
      "cell_type": "code",
      "source": [
        "from fpdf import FPDF\n",
        "\n",
        "class PDF(FPDF):\n",
        "    def header(self):\n",
        "        self.set_font('Arial', 'B', 12)\n",
        "        self.cell(0, 10, 'AI Engineer Assignment - Hindi Conversation Analysis', 0, 1, 'C')\n",
        "\n",
        "    def chapter_title(self, title):\n",
        "        self.set_font('Arial', 'B', 12)\n",
        "        self.cell(0, 10, title, 0, 1, 'L')\n",
        "\n",
        "\n",
        "    def chapter_body(self, body):\n",
        "        self.set_font('Arial', '', 12)\n",
        "        self.multi_cell(0, 10, body)\n",
        "\n",
        "# Initialize PDF\n",
        "pdf = PDF()\n",
        "\n",
        "# Add a page\n",
        "pdf.add_page()\n",
        "\n",
        "# Summary\n",
        "pdf.chapter_title('Summary')\n",
        "pdf.chapter_body(summary)\n",
        "\n",
        "# Key Actions\n",
        "pdf.chapter_title('Key Actions')\n",
        "pdf.chapter_body(key_actions)\n",
        "\n",
        "# Sentiment Analysis\n",
        "pdf.chapter_title('Sentiment Analysis')\n",
        "pdf.chapter_body(sentiment_analysis)\n",
        "\n",
        "# Save the PDF\n",
        "pdf_output_path = \"AI_Engineer_Assignment_Report.pdf\"\n",
        "pdf.output(pdf_output_path)\n",
        "\n",
        "print(f\"Report generated: {pdf_output_path}\")\n"
      ],
      "metadata": {
        "colab": {
          "base_uri": "https://localhost:8080/"
        },
        "id": "Lh0PsoX2lU5b",
        "outputId": "70c7b8ff-52ed-40b7-e83c-d08279ab2458"
      },
      "execution_count": 20,
      "outputs": [
        {
          "output_type": "stream",
          "name": "stdout",
          "text": [
            "Report generated: AI_Engineer_Assignment_Report.pdf\n"
          ]
        }
      ]
    },
    {
      "cell_type": "code",
      "source": [],
      "metadata": {
        "id": "JhYQcgP6lXDE"
      },
      "execution_count": 11,
      "outputs": []
    }
  ]
}